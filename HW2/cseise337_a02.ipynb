{
  "nbformat": 4,
  "nbformat_minor": 0,
  "metadata": {
    "colab": {
      "provenance": []
    },
    "kernelspec": {
      "name": "python3",
      "display_name": "Python 3"
    },
    "language_info": {
      "name": "python"
    }
  },
  "cells": [
    {
      "cell_type": "code",
      "execution_count": null,
      "metadata": {
        "id": "8nbh4Uqjgs9-"
      },
      "outputs": [],
      "source": [
        "# Sean Xia\n",
        "# NetID: sexia\n",
        "# SBUID: 113181409\n",
        "\n",
        "# Problem 1 (10 points): highlight(pattern, string)\n",
        "\n",
        "import re\n",
        "\n",
        "def highlight(pattern, string):\n",
        "  # r = re.sub(pattern, '<>', string)\n",
        "  match_obj = re.search(pattern, string)\n",
        "  # print('The match object is: ', match_obj)\n",
        "\n",
        "  if match_obj is None:\n",
        "    return None\n",
        "\n",
        "  tup = match_obj.span() # boundary_tuple\n",
        "  # print('The boundary tuple is: ', tup)\n",
        "  result = string[0:tup[0]] + '<' + string[tup[0]:tup[1]] + '>' + string[tup[1]:len(string)]\n",
        "\n",
        "  return result"
      ]
    },
    {
      "cell_type": "code",
      "source": [
        "print(highlight(r'[a-zA-Z]\\d', 'ShepardN7'))\n",
        "print(highlight(r'\\bbook\\B', 'bookstore'))\n",
        "print(highlight(r'\\bbook\\B', 'booking'))\n",
        "print(highlight(r'\\bbook\\B', 'textbooks'))\n",
        "print(highlight(r'\\bbook\\B', \"'returned books'\"))\n",
        "print(highlight(r'\\bbook\\B', 'audiobook'))\n"
      ],
      "metadata": {
        "colab": {
          "base_uri": "https://localhost:8080/"
        },
        "id": "D_kTdvpbXTSh",
        "outputId": "5d234313-aa03-420b-c221-7b74168aa6f8"
      },
      "execution_count": null,
      "outputs": [
        {
          "output_type": "stream",
          "name": "stdout",
          "text": [
            "Shepard<N7>\n",
            "<book>store\n",
            "<book>ing\n",
            "None\n",
            "'returned <book>s'\n",
            "None\n"
          ]
        }
      ]
    },
    {
      "cell_type": "code",
      "source": [
        "# Problem 2 (10 points): highlight_all(pattern, string)\n",
        "\n",
        "import re\n",
        "\n",
        "def highlight_all(pattern, string):\n",
        "  match_list = re.findall(pattern, string)\n",
        "  # print('The match list is: ', match_list)\n",
        "\n",
        "  if not match_list:\n",
        "    return None\n",
        "\n",
        "  result = re.sub(pattern, 'thereisnowaythatthisstringisgoingtobeinthestring', string)\n",
        "  # print('The matches so far have been replaced with this string: ', result)\n",
        "\n",
        "  for m in match_list:\n",
        "    result = result.replace('thereisnowaythatthisstringisgoingtobeinthestring', '<' + m + '>', 1) #I needed to do this because my previous could not handle duplicates\n",
        "\n",
        "  return result"
      ],
      "metadata": {
        "id": "QuGisc6ehhaP"
      },
      "execution_count": null,
      "outputs": []
    },
    {
      "cell_type": "code",
      "source": [
        "print(highlight_all(r'o\\w+', \"I'm Commander Shepard and this is my favorite store on the Citadel.\"))\n",
        "print(highlight_all(r'o\\w+', \"I'm Commander Commander Commander Commander Commander Commander Commander Commander Commander Commander Commander.\")) # This is to test duplicates\n",
        "print(highlight_all(r'o\\w+', \"on on on on on ommander on on on favorite on on.\")) # This is to test duplicates\n",
        "# print(highlight_all(r'([\\w\\.-]+)@([\\w\\.-]+)', \"purple alice@google.com, blah monkey bob@abc.com blah dishwasher\"))"
      ],
      "metadata": {
        "colab": {
          "base_uri": "https://localhost:8080/"
        },
        "id": "ANU7LHTXQYcF",
        "outputId": "d7393330-1ef9-4e0d-d9a9-541709f56427"
      },
      "execution_count": null,
      "outputs": [
        {
          "output_type": "stream",
          "name": "stdout",
          "text": [
            "I'm C<ommander> Shepard and this is my fav<orite> st<ore> <on> the Citadel.\n",
            "I'm C<ommander> C<ommander> C<ommander> C<ommander> C<ommander> C<ommander> C<ommander> C<ommander> C<ommander> C<ommander> C<ommander>.\n",
            "<on> <on> <on> <on> <on> <ommander> <on> <on> <on> fav<orite> <on> <on>.\n"
          ]
        }
      ]
    },
    {
      "cell_type": "code",
      "source": [
        "# Problem 3 (10 points): ruin_a_webpage(filename)\n",
        "\n",
        "import re\n",
        "\n",
        "def ruin_a_webpage(filename):\n",
        "  if(not re.search(r'.\\.html$', filename) and not re.search(r'.\\.htm$', filename)):\n",
        "    print(\"A filename not having something before ending in .html or .htm was given.\")\n",
        "    return None\n",
        "\n",
        "  result = ''\n",
        "\n",
        "  f = open(filename, \"r\")\n",
        "  stringFile = f.read()\n",
        "  # result = stringFile\n",
        "\n",
        "  # print(f.read()) # Cannot use this anymore since you can apparently only read once so must do print(stringFile)\n",
        "  print(stringFile)\n",
        "\n",
        "  previous_iteration_string = stringFile\n",
        "  result = stringFile\n",
        "  num_iter = 0\n",
        "  while True:\n",
        "    print(\"Iteration number: \", num_iter)\n",
        "    # result = re.sub(r'<p>(.*)</p>', r'\\1<br><br>', result, flags = re.DOTALL)\n",
        "    # result = re.sub(r'<p>([\\s\\S]*)</p>', r'\\1<br><br>', result)\n",
        "    result = re.sub(r'<p>([\\s\\S]{0,}?)</p>', r'\\1<br><br>', result) #Forgot that we can also have nothing, so I changed to 0\n",
        "    # print('Removing P: ', result)\n",
        "\n",
        "    # result = re.sub(r'<span>(.*)</span>', r'\\1', result)\n",
        "    result = re.sub(r'<span>([\\s\\S]{0,}?)</span>', r'\\1', result)\n",
        "    # print('Removing SPAN: ', result)\n",
        "\n",
        "    num_iter += 1\n",
        "    if previous_iteration_string == result:\n",
        "      break\n",
        "    else:\n",
        "      previous_iteration_string = result\n",
        "\n",
        "  print('LOOP HAS FINISHED')\n",
        "  print('The result is: ', result)\n",
        "\n",
        "  output_file = open(\"ruined.html\",\"w+\")\n",
        "  output_file.write(result)\n",
        "  # output_file = open(\"ruined.html\",\"w+\")\n",
        "  # output_file.write(result)\n",
        "\n",
        "  # return None\n",
        "  return True #Piazza q @32"
      ],
      "metadata": {
        "id": "E7poSFOqhbVG"
      },
      "execution_count": null,
      "outputs": []
    },
    {
      "cell_type": "code",
      "source": [
        "# print(ruin_a_webpage('ruined.html'))\n",
        "# print(ruin_a_webpage('prob3.html'))\n",
        "# print(ruin_a_webpage('p3_file01.html'))\n",
        "print(ruin_a_webpage('p3_file09.html'))\n",
        "# print(re.search(r'<p>(.*)</p>', \"\"\"<p>(what <span><span>a</span></span> <span><span>wonderful</span>\n",
        "# </span>world)</p> \"\"\", flags = re.DOTALL))\n",
        "#This results in <re.Match object; span=(0, 83), match='<p>(what <span><span>a</span></span> <span><span>>, might have to do something like [/s/S] [/w/W] [/d/D]"
      ],
      "metadata": {
        "id": "I_cWf864sXQd",
        "colab": {
          "base_uri": "https://localhost:8080/"
        },
        "outputId": "9c24f1a5-b63b-4b73-90e2-c67909d0e40f"
      },
      "execution_count": null,
      "outputs": [
        {
          "output_type": "stream",
          "name": "stdout",
          "text": [
            "<html>\n",
            "<body>\n",
            "<p>trees of green, red roses too</p>\n",
            "<p>I <span><span>se</span></span>e them bloom for me and you</p>\n",
            "<p>(what <span><span>a</span></span> <span><span>wonderful</span>\n",
            "</span>world)</p>\n",
            "<p></p>\n",
            "</body>\n",
            "</html>\n",
            "Iteration number:  0\n",
            "Iteration number:  1\n",
            "Iteration number:  2\n",
            "LOOP HAS FINISHED\n",
            "The result is:  <html>\n",
            "<body>\n",
            "trees of green, red roses too<br><br>\n",
            "I see them bloom for me and you<br><br>\n",
            "(what a wonderful\n",
            "world)<br><br>\n",
            "<br><br>\n",
            "</body>\n",
            "</html>\n",
            "True\n"
          ]
        }
      ]
    },
    {
      "cell_type": "code",
      "source": [
        "# Problem 4 (10 points): decompose_path(path)\n",
        "\n",
        "import re\n",
        "\n",
        "def decompose_path(path):\n",
        "  result = re.split(r':', path)\n",
        "  return result"
      ],
      "metadata": {
        "id": "8Kp0moIVhtUY"
      },
      "execution_count": null,
      "outputs": []
    },
    {
      "cell_type": "code",
      "source": [
        "print(decompose_path('/usr/openwin/bin:/usr/ucb:/usr/bin:/bin:/etc:/usr/local/bin:/usr/local/lib:/usr/shareware/bin:/usr/shareware/lib:.'))\n",
        "print(decompose_path(''))\n",
        "print(decompose_path('/dir1:'))"
      ],
      "metadata": {
        "id": "qGJw1HGWB7dT",
        "colab": {
          "base_uri": "https://localhost:8080/"
        },
        "outputId": "fd2fb72d-2021-4c10-d64d-d78df44b252d"
      },
      "execution_count": null,
      "outputs": [
        {
          "output_type": "stream",
          "name": "stdout",
          "text": [
            "['/usr/openwin/bin', '/usr/ucb', '/usr/bin', '/bin', '/etc', '/usr/local/bin', '/usr/local/lib', '/usr/shareware/bin', '/usr/shareware/lib', '.']\n",
            "['']\n",
            "['/dir1', '']\n"
          ]
        }
      ]
    },
    {
      "cell_type": "code",
      "source": [
        "# Problem 5 (10 points): link_mapper(filename)\n",
        "\n",
        "import re\n",
        "\n",
        "def link_mapper(filename):\n",
        "  if(not re.search(r'.\\.html$', filename) and not re.search(r'.\\.htm$', filename)):\n",
        "    print(\"A filename not having something before ending in .html or .htm was given.\")\n",
        "    return None\n",
        "\n",
        "  dict = {}\n",
        "  dict[filename] = []\n",
        "  print('The dict is', dict)\n",
        "\n",
        "  f = open(filename, \"r\")\n",
        "  stringFile = f.read()\n",
        "\n",
        "  # print(f.read()) # Cannot use this anymore since you can apparently only read once so must do print(stringFile)\n",
        "  # print(stringFile)\n",
        "\n",
        "  link_list = re.findall(r'<a\\s+href\\s*=\\s*[\\'\"](.*)[\\'\"]\\s*>', stringFile) # link_list = re.findall(r'<a href = [\\'\"]?([^\\'\" >]+', stringFile)\n",
        "  text_list = re.findall(r'<a\\s+href\\s*=\\s*[\\'\"].*[\\'\"]\\s*>(.*)</a>', stringFile)\n",
        "  # text_list = re.findall(r'<a\\s+href\\s*=\\s*[\\'\"].*[\\'\"]\\s*>(.*)</a>', stringFile, flags = re.DOTALL)\n",
        "\n",
        "  print('link_list is', link_list)\n",
        "  print('text_list is', text_list)\n",
        "\n",
        "  for i in range(len(link_list)):\n",
        "    tup = ()\n",
        "    tup = (link_list[i].strip(), text_list[i].strip())\n",
        "    dict[filename].append(tup)\n",
        "\n",
        "\n",
        "  return dict"
      ],
      "metadata": {
        "id": "D1tOTJC9hwSf"
      },
      "execution_count": null,
      "outputs": []
    },
    {
      "cell_type": "code",
      "source": [
        "print(link_mapper('prob5.html'))\n",
        "# print(link_mapper('p5_file01.html'))\n",
        "# print(link_mapper('p5_file02.html'))\n",
        "# print(link_mapper('p5_file03.html'))\n",
        "# print(link_mapper('p5_file04.html'))\n",
        "# print(link_mapper('p5_file05.html'))\n",
        "# print(link_mapper('p5_file06.txt'))"
      ],
      "metadata": {
        "id": "CfjRt5o8ExHa",
        "colab": {
          "base_uri": "https://localhost:8080/"
        },
        "outputId": "744b5078-eed6-41c1-f5f9-f800f569973c"
      },
      "execution_count": null,
      "outputs": [
        {
          "output_type": "stream",
          "name": "stdout",
          "text": [
            "The dict is {'prob5.html': []}\n",
            "link_list is ['all_link/index.html', 'all_link/index.html', 'all_link/index.html', 'all_link/index.html', 'https://www.google.com', 'https://www.google.com', 'multipg.html', 'index.html', 'summary.html']\n",
            "text_list is ['Index', 'Nature', 'History', 'Art', 'Search at Google', 'Search at Google', '&lt;&lt; Linking Multiple Pages', 'Index', 'Summary &gt;&gt;']\n",
            "{'prob5.html': [('all_link/index.html', 'Index'), ('all_link/index.html', 'Nature'), ('all_link/index.html', 'History'), ('all_link/index.html', 'Art'), ('https://www.google.com', 'Search at Google'), ('https://www.google.com', 'Search at Google'), ('multipg.html', '&lt;&lt; Linking Multiple Pages'), ('index.html', 'Index'), ('summary.html', 'Summary &gt;&gt;')]}\n"
          ]
        }
      ]
    },
    {
      "cell_type": "code",
      "source": [
        ",# Problem 6 (20 points): grammarly(text)\n",
        "\n",
        "import re\n",
        "\n",
        "def convert_to_uppercase(a):\n",
        "  # print('ctou', a)\n",
        "  return a.group(1) + a.group(2).upper()\n",
        "\n",
        "def remove_unclosed_parentheses(original):\n",
        "  result = original\n",
        "  lst = []\n",
        "\n",
        "  lst = [x for x in re.finditer(r'[()]', original)]\n",
        "  # print('The parenthesis list is: ', lst)\n",
        "\n",
        "  stack = []\n",
        "  problem_parentheses = []\n",
        "\n",
        "  for x in lst:\n",
        "    if x.group() == '(':\n",
        "      stack.append(x)\n",
        "    elif x.group() == ')':\n",
        "      if len(stack) == 0:\n",
        "        problem_parentheses.append(x)\n",
        "      elif stack[-1].group() == '(':\n",
        "        # print('These opening parenthesis have matching closing parentheses: ',stack.pop())\n",
        "        stack.pop()\n",
        "      else:\n",
        "        problem_parentheses.append(x)\n",
        "        # pass\n",
        "\n",
        "  # print('The problem parenthesis list is: ', problem_parentheses)\n",
        "  # print('The remaining stack after removing any matching parentheses is: ', stack)\n",
        "  # print()\n",
        "\n",
        "  remove_counter = 0\n",
        "  for x in problem_parentheses:\n",
        "    result = result[0:(x.span()[0]-remove_counter)] + result[(x.span()[0]-remove_counter) + 1:len(result)]\n",
        "    remove_counter += 1\n",
        "\n",
        "  for x in stack:\n",
        "    result = result[0:(x.span()[0]-remove_counter)] + result[(x.span()[0]-remove_counter) + 1:len(result)]\n",
        "    remove_counter += 1\n",
        "\n",
        "  # print('Number of parentheses removed: ', remove_counter)\n",
        "\n",
        "  return result\n",
        "\n",
        "def grammarly(text):\n",
        "  result = ''\n",
        "  # result = re.sub(r'\\s+(i)\\s+', ' I ', text)\n",
        "  # result = re.sub(r'(\\s+)i(\\s+)', r'\\1I\\2', text)\n",
        "  print('The original text is: ', text)\n",
        "\n",
        "  result = re.sub(r'(\\b)i(\\b)', r'\\1I\\2', text)\n",
        "  # print('Capitalize all i to I (at least if it has word boundary surrounding it): ', result) #print('Capitalize all i to I (at least if it has spaces surrounding it): ', result)\n",
        "\n",
        "  # result = re.sub('^\\s*([a-z])', convert_to_uppercase, result)\n",
        "  result = re.sub(r'^(\\s*\\b)([a-z])', convert_to_uppercase, result)\n",
        "  # print('Capitalize all start of string (since not after period): ', result)\n",
        "\n",
        "  # result = re.sub('\\.\\s*([a-z])', \". \" + convert_to_uppercase, result)\n",
        "  result = re.sub(r'([!\\.?]\\s*)([a-z])', convert_to_uppercase, result)\n",
        "  # print('Capitalize all start of sentences (after period, exclamation, question): ', result)\n",
        "\n",
        "  # result = re.sub(r'^a(\\s+[aeiouAEIOU])', r'an\\1', result, flags = re.IGNORECASE)\n",
        "  result = re.sub(r'\\ba(\\s+[aeiouAEIOU])', r'an\\1', result, flags = re.IGNORECASE)\n",
        "  # print('Change any incorrect a to an (weird edge cases like hour or university): ', result)\n",
        "\n",
        "  # result = re.sub(r'^an(\\s+[aeiouAEIOU])', r'an\\1', result)\n",
        "  result = re.sub(r'\\ban(\\s+[bcdfghjklmnpqrstvwxyzBCDFGHJKLMNPQRSTVWXYZ])', r'a\\1', result)\n",
        "  # print('Change any incorrect an to a (weird edge cases like hour or university): ', result)\n",
        "\n",
        "  result = re.sub(r'\\b(\\w+)(\\s+\\1)+', r'\\1', result, flags = re.IGNORECASE)\n",
        "  # r'\\b(\\w+)(\\s+)(\\1)' # This definitely works fine but might have some edge cases r'\\b(\\w+)(\\s+)(\\1)\\s*' like Yes yes Yes? Yes let us yes ! Yes yes\n",
        "  #Now get Yes? Yes let us yes! Yes with r'\\b(\\w+)(\\s+\\1)+' on this string: 'Yes yes yes yes Yes? yes yes let us yes yes! yes yes yes'\n",
        "  print('Remove repeat words: ', result)\n",
        "\n",
        "  result = re.sub(r'(\\b\\s*,.{0,}?)\\s+and\\s+(\\w+)', r'\\1, and \\2', result, flags = re.IGNORECASE) #Had to change to lazy evaluation so it would pass some test case\n",
        "  print('Missing oxford comma: ', result)\n",
        "\n",
        "  # result = re.sub(r'(\\([^()]*\\))|[()]', lambda x: x.group(1) or \"-\", result)\n",
        "  result = remove_unclosed_parentheses(result)\n",
        "  # print('Unclosed parentheses: ', result)\n",
        "\n",
        "  # print('Result that is outputted from grammarly(): ', result)\n",
        "  return result\n",
        "\n",
        "# print(grammarly('''\n",
        "# companions are an Garrus, a apple and a university.\n",
        "# And just what what is it that y'all said?\n",
        "# ''')) #This is to test oxford comma #Trimming down to the problem"
      ],
      "metadata": {
        "id": "swX33iTph5at"
      },
      "execution_count": null,
      "outputs": []
    },
    {
      "cell_type": "code",
      "source": [
        "print(grammarly('Our favorite companions are Garrus, Wrex and Tali.'))\n",
        "print()\n",
        "print(grammarly('''hello i am a beast, a egg, a Egg, a legend and a champion. i am testing this string. this should be capitalized now.\n",
        "     just testing if    i                       made the program save all the whitespace surrounding it correctly.       otherwise i might use wrong regex.\n",
        "does question mark work too? now let me test it out. and also exclamation point too! wow!\n",
        "Yes yes yes yes Yes? yes yes let us yes yes! yes yes yes.\n",
        "Our favorite companions are Garrus, Wrex and Tali.\n",
        "companions are an Garrus, a apple and a university.\n",
        "And just what what is it that y'all said?\n",
        "If that that is what you choose to believe, then you are damned.\n",
        "That that what y'all are talking about.\n",
        "This (case (is about parentheses).\n",
        "This (is (another (case) about) parentheses.\n",
        "i i (an (fruit). a, b c (d and e). hello i.\n",
        "i i'm (an (fruit). a, b c (d and e). hello i.\n",
        "i i'm (an Fruit). a, b c (d and e). hello i.\n",
        "a. a.a.\n",
        "'''))\n",
        "\n",
        "# print()\n",
        "# print(grammarly('''\n",
        "# companions are an Garrus, a apple and a university.\n",
        "# And just what what is it that y'all said?\n",
        "# ''')) #This is to test oxford comma #Trimming down to the problem\n",
        "\n",
        "\n",
        "# print(grammarly('''hello i am a beast, a egg, a Egg, a legend and a champion. i am testing this string. this should be capitalized now.\n",
        "# Our favorite companions are Garrus, Wrex and Tali.\n",
        "# companions are an Garrus, a apple and a university.\n",
        "# And just what what is it that y'all said?\n",
        "# If that that is what you choose to believe, then you are damned.\n",
        "# That that what y'all are talking about.\n",
        "# a. a.a.\n",
        "# ''')) #After that problem is fixed we test it on the longer string with more oxford commas\n",
        "\n",
        "# print(grammarly('''hello i am a beast, a egg, a Egg, a legend and a champion. i am testing this string. this should be capitalized now.\n",
        "# Our favorite companions are Garrus, Wrex and Tali.\n",
        "# companions are an Garrus, a apple and a university.\n",
        "# And just what what is it that y'all said?\n",
        "# If that that is what you choose to believe, then you are damned.\n",
        "# That that what y'all are talking about.\n",
        "# a. a.a.\n",
        "# ''')) #This is to test oxford comma #Trying to trim this down to have the isolated problem of it showing Missing oxford comma:\n",
        "# companions are a Garrus, an apple and an university., and just what is it that y'all said?\n",
        "# A. A.A.\n",
        "\n",
        "# print()\n",
        "# print(grammarly('''\n",
        "# This (case (is about parentheses).\n",
        "# This (is (another (case) about) parentheses.\n",
        "# i i (an (fruit). a, b c (d and e). hello i.\n",
        "# i i'm (an (fruit). a, b c (d and e). hello i.\n",
        "# i i'm (an Fruit). a, b c (d and e). hello i.\n",
        "# a. a.a.\n",
        "# '''))\n",
        "# print()\n",
        "# print(grammarly('''\n",
        "# This (case (is about parentheses).))))\n",
        "# ''')) #This is to test parentheses\n",
        "\n",
        "\n",
        "# print(grammarly('''hello i am a beast, a egg, a Egg, a legend and a champion. i am testing this string. this should be capitalized now.\n",
        "# Our favorite companions are Garrus, Wrex and Tali.\n",
        "# companions are an Garrus, a apple and a university.\n",
        "# # And just what what is it that y'all said?\n",
        "# # If that that is what you choose to believe, then you are damned.\n",
        "# # That that what y'all are talking about.\n",
        "# This (case (is about parentheses).\n",
        "# This (is (another (case) about) parentheses.\n",
        "# i i (an (fruit). a, b c (d and e). hello i.\n",
        "# i i'm (an (fruit). a, b c (d and e). hello i.\n",
        "# i i'm (an Fruit). a, b c (d and e). hello i.\n",
        "# a. a.a.\n",
        "# '''))\n"
      ],
      "metadata": {
        "id": "li621ECxTGDm",
        "colab": {
          "base_uri": "https://localhost:8080/"
        },
        "outputId": "08a0121b-6ae8-4bc3-c205-c64ec47299f9"
      },
      "execution_count": null,
      "outputs": [
        {
          "output_type": "stream",
          "name": "stdout",
          "text": [
            "The original text is:  Our favorite companions are Garrus, Wrex and Tali.\n",
            "Remove repeat words:  Our favorite companions are Garrus, Wrex and Tali.\n",
            "Missing oxford comma:  Our favorite companions are Garrus, Wrex, and Tali.\n",
            "Our favorite companions are Garrus, Wrex, and Tali.\n",
            "\n",
            "The original text is:  hello i am a beast, a egg, a Egg, a legend and a champion. i am testing this string. this should be capitalized now.\n",
            "     just testing if    i                       made the program save all the whitespace surrounding it correctly.       otherwise i might use wrong regex.\n",
            "does question mark work too? now let me test it out. and also exclamation point too! wow!\n",
            "Yes yes yes yes Yes? yes yes let us yes yes! yes yes yes.\n",
            "Our favorite companions are Garrus, Wrex and Tali.\n",
            "companions are an Garrus, a apple and a university.\n",
            "And just what what is it that y'all said?\n",
            "If that that is what you choose to believe, then you are damned.\n",
            "That that what y'all are talking about.\n",
            "This (case (is about parentheses).\n",
            "This (is (another (case) about) parentheses.\n",
            "i i (an (fruit). a, b c (d and e). hello i.\n",
            "i i'm (an (fruit). a, b c (d and e). hello i.\n",
            "i i'm (an Fruit). a, b c (d and e). hello i.\n",
            "a. a.a.\n",
            "\n",
            "Remove repeat words:  Hello I am a beast, an egg, an Egg, a legend and a champion. I am testing this string. This should be capitalized now.\n",
            "     Just testing if    I                       made the program save all the whitespace surrounding it correctly.       Otherwise I might use wrong regex.\n",
            "Does question mark work too? Now let me test it out. And also exclamation point too! Wow!\n",
            "Yes? Yes let us yes! Yes.\n",
            "Our favorite companions are Garrus, Wrex and Tali.\n",
            "Companions are a Garrus, an apple and an university.\n",
            "And just what is it that y'all said?\n",
            "If that is what you choose to believe, then you are damned.\n",
            "That what y'all are talking about.\n",
            "This (case (is about parentheses).\n",
            "This (is (another (case) about) parentheses.\n",
            "I (an (fruit). A, b c (d and e). Hello I.\n",
            "I'm (an (fruit). A, b c (d and e). Hello I.\n",
            "I'm (a Fruit). A, b c (d and e). Hello I.\n",
            "A. A.A.\n",
            "\n",
            "Missing oxford comma:  Hello I am a beast, an egg, an Egg, a legend, and a champion. I am testing this string. This should be capitalized now.\n",
            "     Just testing if    I                       made the program save all the whitespace surrounding it correctly.       Otherwise I might use wrong regex.\n",
            "Does question mark work too? Now let me test it out. And also exclamation point too! Wow!\n",
            "Yes? Yes let us yes! Yes.\n",
            "Our favorite companions are Garrus, Wrex, and Tali.\n",
            "Companions are a Garrus, an apple, and an university.\n",
            "And just what is it that y'all said?\n",
            "If that is what you choose to believe, then you are damned.\n",
            "That what y'all are talking about.\n",
            "This (case (is about parentheses).\n",
            "This (is (another (case) about) parentheses.\n",
            "I (an (fruit). A, b c (d, and e). Hello I.\n",
            "I'm (an (fruit). A, b c (d, and e). Hello I.\n",
            "I'm (a Fruit). A, b c (d, and e). Hello I.\n",
            "A. A.A.\n",
            "\n",
            "Hello I am a beast, an egg, an Egg, a legend, and a champion. I am testing this string. This should be capitalized now.\n",
            "     Just testing if    I                       made the program save all the whitespace surrounding it correctly.       Otherwise I might use wrong regex.\n",
            "Does question mark work too? Now let me test it out. And also exclamation point too! Wow!\n",
            "Yes? Yes let us yes! Yes.\n",
            "Our favorite companions are Garrus, Wrex, and Tali.\n",
            "Companions are a Garrus, an apple, and an university.\n",
            "And just what is it that y'all said?\n",
            "If that is what you choose to believe, then you are damned.\n",
            "That what y'all are talking about.\n",
            "This case (is about parentheses).\n",
            "This is (another (case) about) parentheses.\n",
            "I an (fruit). A, b c (d, and e). Hello I.\n",
            "I'm an (fruit). A, b c (d, and e). Hello I.\n",
            "I'm (a Fruit). A, b c (d, and e). Hello I.\n",
            "A. A.A.\n",
            "\n"
          ]
        }
      ]
    },
    {
      "cell_type": "code",
      "source": [
        "print(grammarly(\"A enemy is a obstacle.\"))"
      ],
      "metadata": {
        "id": "JRXud3-n2z_L",
        "colab": {
          "base_uri": "https://localhost:8080/"
        },
        "outputId": "9447a096-d9ae-402c-8ae7-7dac84ccc030"
      },
      "execution_count": null,
      "outputs": [
        {
          "output_type": "stream",
          "name": "stdout",
          "text": [
            "The original text is:  A enemy is a obstacle.\n",
            "Remove repeat words:  an enemy is an obstacle.\n",
            "Missing oxford comma:  an enemy is an obstacle.\n",
            "an enemy is an obstacle.\n"
          ]
        }
      ]
    },
    {
      "cell_type": "code",
      "source": [],
      "metadata": {
        "id": "9V2K0CwKRroK"
      },
      "execution_count": null,
      "outputs": []
    }
  ]
}