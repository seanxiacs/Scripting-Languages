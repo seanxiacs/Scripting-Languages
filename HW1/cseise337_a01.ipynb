{
  "nbformat": 4,
  "nbformat_minor": 0,
  "metadata": {
    "colab": {
      "provenance": []
    },
    "kernelspec": {
      "name": "python3",
      "display_name": "Python 3"
    },
    "language_info": {
      "name": "python"
    }
  },
  "cells": [
    {
      "cell_type": "code",
      "execution_count": null,
      "metadata": {
        "id": "ZLXNS9QaMert"
      },
      "outputs": [],
      "source": [
        "# Sean Xia\n",
        "# NetID: sexia\n",
        "# SBUID: 11381409\n",
        "\n",
        "# Problem 1 – Chaotic Strings (10 points)\n",
        "\n",
        "from collections import Counter\n",
        "\n",
        "def is_chaotic(myStr):\n",
        "  # print(str + \" Refsnes\")\n",
        "  arr = Counter(myStr)\n",
        "  # print(str(arr))\n",
        "\n",
        "  flag = (len(arr) == len(set(arr.values()))) #If we know that the number of unique values is equal to the length of the array, we know that this is a chaotic string\n",
        "\n",
        "  if flag:\n",
        "    return 'TOHRU'\n",
        "  return 'ELMA'"
      ]
    },
    {
      "cell_type": "code",
      "source": [
        "print(is_chaotic('aabbcd'))\n",
        "print(is_chaotic('aaaabbbccd'))\n",
        "print(is_chaotic('abaacccdee'))\n",
        "print(is_chaotic(''))"
      ],
      "metadata": {
        "colab": {
          "base_uri": "https://localhost:8080/"
        },
        "id": "PWpdhdQpMhex",
        "outputId": "3572758e-2743-4881-ef4c-16aa3f5118b0"
      },
      "execution_count": null,
      "outputs": [
        {
          "output_type": "stream",
          "name": "stdout",
          "text": [
            "ELMA\n",
            "TOHRU\n",
            "ELMA\n",
            "TOHRU\n"
          ]
        }
      ]
    },
    {
      "cell_type": "code",
      "source": [
        "# Problem 2 – Balanced Brackets (10 points)\n",
        "\n",
        "# This is assuming that things like '{()[]}' are balanced. I searched up examples of balanced brackets and that is considered balanced.\n",
        "# Can just iteratively replace all '()', '{}', '[]' with empty string and do this over and over. If left with empty string at end, balanced otherwise not.\n",
        "def is_balanced(myStr):\n",
        "  brackets = ['()', '{}', '[]']\n",
        "\n",
        "  while True:\n",
        "    if not any(anyBracket in myStr for anyBracket in brackets):\n",
        "      # Any operator will return true if any one of the simple balanced brackets exists. If there is a simple bracket to replace with empty string, we do it after.\n",
        "      # If there isn't, we can break out of loop and check if the string is empty to see if it is balanced. Otherwise it is not balanced.\n",
        "      break\n",
        "    for anyBracket in brackets:\n",
        "      myStr = myStr.replace(anyBracket, '')\n",
        "\n",
        "  return not myStr # The not myStr will return true if myStr is empty which meant that myStr was balanced."
      ],
      "metadata": {
        "id": "fez5gAJdNxz7"
      },
      "execution_count": null,
      "outputs": []
    },
    {
      "cell_type": "code",
      "source": [
        "print(is_balanced('{[()]}'))\n",
        "print(is_balanced('{[(])}'))\n",
        "print(is_balanced('{{[[(())]]}}'))\n",
        "\n",
        "# Just making sure it works for separated brackets\n",
        "print(is_balanced('{()[]}'))"
      ],
      "metadata": {
        "colab": {
          "base_uri": "https://localhost:8080/"
        },
        "id": "7Rbu2wJ0kYpt",
        "outputId": "570dfa64-df87-401a-ea64-1580021e6f28"
      },
      "execution_count": null,
      "outputs": [
        {
          "output_type": "stream",
          "name": "stdout",
          "text": [
            "True\n",
            "False\n",
            "True\n",
            "True\n"
          ]
        }
      ]
    },
    {
      "cell_type": "code",
      "source": [
        "# Problem 3 – Functional Programming (10 points)\n",
        "\n",
        "# from functools import reduce\n",
        "import functools\n",
        "\n",
        "def winning_function(myList, func1, func2):\n",
        "\n",
        "  #We must include the 3rd argument 0 although I don't exactly know why it doesn't work if I don't\n",
        "  #This works because True is considered to be the integer 1 in python.\n",
        "  f1Count = functools.reduce(lambda x, y: x + func1(y), myList, 0)\n",
        "  f2Count = functools.reduce(lambda x, y: x + func2(y), myList, 0)\n",
        "\n",
        "  # print(f1Count)\n",
        "  # print(f2Count)\n",
        "\n",
        "  if f1Count > f2Count:\n",
        "    return func1.__name__\n",
        "  elif f1Count == f2Count:\n",
        "    return 'TIE'\n",
        "  else:\n",
        "    return func2.__name__"
      ],
      "metadata": {
        "id": "prDAilK2kYdt"
      },
      "execution_count": null,
      "outputs": []
    },
    {
      "cell_type": "code",
      "source": [
        "def even(x):\n",
        "  return x % 2 == 0\n",
        "\n",
        "def odd(x):\n",
        "  return x % 2 == 1\n",
        "\n",
        "a = [2,3,4,5,6,8]\n",
        "\n",
        "print(winning_function(a, even, odd))\n",
        "\n",
        "# Just making sure it works for other cases\n",
        "print(winning_function([1, 2, 3], even, odd))\n",
        "print(winning_function([1, 2, 3, 4], even, odd))\n",
        "print(winning_function([1, 1, 1, 1], even, odd))\n",
        "print(winning_function([2, 2, 2, 2], even, odd))"
      ],
      "metadata": {
        "id": "ZTnoZd6kkYNG",
        "colab": {
          "base_uri": "https://localhost:8080/"
        },
        "outputId": "1feacafb-efa9-43f4-e362-6b2dbf2b50cb"
      },
      "execution_count": null,
      "outputs": [
        {
          "output_type": "stream",
          "name": "stdout",
          "text": [
            "even\n",
            "odd\n",
            "TIE\n",
            "odd\n",
            "even\n"
          ]
        }
      ]
    },
    {
      "cell_type": "code",
      "source": [
        "# Problem 4 – Representing Filesystems (20 points)\n",
        "\n",
        "# def to_string(fs_item, tab_level = 1):\n",
        "#     if isinstance(fs_item, a1.File):\n",
        "#         return (\"\\t\" + \"  \" * tab_level) + \"FILE: \" + fs_item.name +\n",
        "#                 \", \" + str(fs_item.size) + \"\\n\"\n",
        "#     else:\n",
        "#         temp = (\"\\t\" + \"  \" * tab_level) + \"FOLDER: \" + fs_item.name\n",
        "#                 + \"\\n\"\n",
        "#         for item in fs_item.items:\n",
        "#             temp += to_string(item, tab_level + 1)\n",
        "#         return temp\n",
        "\n",
        "class FS_Item(object):\n",
        "  # name = ''\n",
        "  def __init__(self, name):\n",
        "    # Instance variable\n",
        "    self.name = name\n",
        "\n",
        "  def get_name(self):\n",
        "    return self.name\n",
        "\n",
        "class Folder(FS_Item):\n",
        "  # name = ''\n",
        "  def __init__(self, name, items):\n",
        "    # Instance variable\n",
        "    self.items = items\n",
        "    super().__init__(name)\n",
        "\n",
        "  def add_item(self, item):\n",
        "    self.items.append(item)\n",
        "\n",
        "class File(FS_Item):\n",
        "\n",
        "  def __init__(self, name, size):\n",
        "    # Instance variable\n",
        "    self.size = size\n",
        "    super().__init__(name)\n",
        "\n",
        "def load_fs(ls_output):\n",
        "  f = open(ls_output, \"r\")\n",
        "  stringFile = f.read()\n",
        "\n",
        "  # print(f.read()) # Cannot use this anymore since you can apparently only read once so must do print(stringFile)\n",
        "  # print(stringFile)\n",
        "\n",
        "  by_line = stringFile.splitlines()\n",
        "  # print(by_line)\n",
        "\n",
        "  numLines = len(by_line)\n",
        "  # print('The number of lines in this file is: ', numLines)\n",
        "\n",
        "  # by_whitespace = by_line\n",
        "  # for anyString in by_line:\n",
        "  for i in range(len(by_line)):\n",
        "    by_line[i] = by_line[i].split()\n",
        "\n",
        "  # print(by_line)\n",
        "\n",
        "  root = Folder('.', [])\n",
        "\n",
        "  build_dir(root, by_line, '.', '')\n",
        "  # Might have to use recursion for this?\n",
        "\n",
        "  return root\n",
        "\n",
        "def build_dir(root, by_line, curr_folder, prev):\n",
        "  path = ''\n",
        "  if prev == '':\n",
        "    path += \".:\"\n",
        "  else:\n",
        "    path += prev + curr_folder + \":\"\n",
        "  # print('build_dir call started with curr_folder: ' + curr_folder)\n",
        "  for i in range(len(by_line)):\n",
        "    sizeLine = len(by_line[i])\n",
        "    if sizeLine == 0:\n",
        "      # print(\"There was a line with nothing in it.\")\n",
        "      continue\n",
        "    if path in by_line[i][0]: # if by_line[i][0] == (curr_folder + ':'):\n",
        "      # print('Got to the specified directory:', curr_folder)\n",
        "      for x in range(i, len(by_line)):\n",
        "        # print('nested loop')\n",
        "        if len(by_line[x]) == 0:\n",
        "          # print(\"There was a line with nothing in it.\")\n",
        "          break\n",
        "        if by_line[x][0] == \"total\":\n",
        "          continue\n",
        "        if by_line[x][0][0] == '-':\n",
        "          # print('Theres a line with -')\n",
        "          fileName = by_line[x][8]\n",
        "          fileSize = by_line[x][4]\n",
        "          # print('The fileName and fileSize are: ', fileName, ',', fileSize)\n",
        "          root.add_item(File(fileName, fileSize))\n",
        "        if by_line[x][0][0] == 'd':\n",
        "          # print('Theres a line with d')\n",
        "          folderName = by_line[x][8]\n",
        "          # print('The folderName is: ', folderName)\n",
        "          newFolder = Folder(folderName, [])\n",
        "          root.add_item(newFolder)\n",
        "          if path == '.:':\n",
        "            build_dir(newFolder, by_line, folderName, './')\n",
        "          else:\n",
        "            build_dir(newFolder, by_line, folderName, prev + curr_folder + '/')\n",
        "      # print('build_dir nested for loop should be over with curr_folder: ' + curr_folder)\n",
        "  # print('build_dir call finished with curr_folder: ' + curr_folder)"
      ],
      "metadata": {
        "id": "Ozsz5H5Hj0h0"
      },
      "execution_count": null,
      "outputs": []
    },
    {
      "cell_type": "code",
      "source": [
        "def to_string(fs_item, tab_level = 2):\n",
        "    if isinstance(fs_item, File):\n",
        "        return (\"\\t\" + \" \" * tab_level) + \"FILE: \" + fs_item.name + \", \" + str(fs_item.size) + \"\\n\"\n",
        "    else:\n",
        "        temp = (\"\\t\" + \" \" * tab_level) + \"FOLDER: \" + fs_item.name  + \"\\n\"\n",
        "        for item in fs_item.items:\n",
        "            temp += to_string(item, tab_level + 2)\n",
        "        return temp\n",
        "print(to_string(load_fs('lsoutput2.txt')))"
      ],
      "metadata": {
        "id": "l7jhJVCDtInh",
        "colab": {
          "base_uri": "https://localhost:8080/"
        },
        "outputId": "1b4b5b13-99b4-49a6-bf97-6fd574b3f15b"
      },
      "execution_count": null,
      "outputs": [
        {
          "output_type": "stream",
          "name": "stdout",
          "text": [
            "\t  FOLDER: .\n",
            "\t    FILE: d1.txt, 0\n",
            "\t    FILE: d2.txt, 0\n",
            "\t    FILE: d3.txt, 0\n",
            "\t    FILE: lsoutput2.txt, 0\n",
            "\t    FOLDER: nortz\n",
            "\t      FILE: d4.txt, 0\n",
            "\t      FILE: d5.txt, 0\n",
            "\t      FILE: d6.txt, 0\n",
            "\t      FILE: d7.txt, 0\n",
            "\t      FILE: d8.txt, 0\n",
            "\t      FILE: d9.txt, 0\n",
            "\t    FOLDER: slurm\n",
            "\t      FILE: d10.txt, 0\n",
            "\t      FILE: d11.txt, 0\n",
            "\t      FOLDER: loco\n",
            "\t        FOLDER: florp\n",
            "\t          FOLDER: bundt\n",
            "\t            FILE: d13.txt, 0\n",
            "\t            FOLDER: gorgak\n",
            "\t              FILE: d14.txt, 0\n",
            "\t              FILE: d15.txt, 0\n",
            "\t              FILE: d16.txt, 0\n",
            "\t              FILE: d17.txt, 0\n",
            "\t          FILE: d12.txt, 0\n",
            "\n"
          ]
        }
      ]
    },
    {
      "cell_type": "code",
      "source": [
        "# Problem 5 – Decoding (20 points)\n",
        "\n",
        "def get_lexical_position(char):\n",
        "  return ord(char) - ord('a')\n",
        "\n",
        "# def first_char():\n",
        "#This will take the char from the encrypted string and return the char of the decrypted string\n",
        "def convert_char_to_original(char, addition):\n",
        "  conversions = [97, 98, 99, 100, 101, 102, 103, 104, 105, 106, 107, 108, 109, 110, 111, 112, 113, 114, 115, 116, 117, 118, 119, 120, 121, 122]\n",
        "  conversions2 = [x + addition for x in conversions]\n",
        "  res = [x % 26 for x in conversions2]\n",
        "  # print(res)\n",
        "\n",
        "  lex_pos = get_lexical_position(char)\n",
        "  # print('Lexical position is: ', lex_pos)\n",
        "\n",
        "  index = res.index(lex_pos)\n",
        "  # print('Index in the result array is: ', index)\n",
        "\n",
        "  original_char = chr(conversions[index])\n",
        "  # print('The original char is: ', original_char)\n",
        "\n",
        "  return original_char\n",
        "\n",
        "def decode(ct):\n",
        "  flag_first_char = True\n",
        "  summation = 0\n",
        "  decoded = ''\n",
        "  for i in range(len(ct)):\n",
        "    ascii_val = ord(ct[i]) # ascii_val = ord(str)\n",
        "    if (ascii_val >= 97) and (ascii_val <= 122):\n",
        "      if flag_first_char:\n",
        "        orig = convert_char_to_original(ct[i], 59)\n",
        "        summation += ord(orig)\n",
        "        decoded += orig\n",
        "        flag_first_char = False\n",
        "      else:\n",
        "        orig = convert_char_to_original(ct[i], summation)\n",
        "        summation += ord(orig)\n",
        "        decoded += orig\n",
        "    else:\n",
        "      decoded += ct[i]\n",
        "\n",
        "  # print('The decoded string is: ' + decoded)\n",
        "  return decoded"
      ],
      "metadata": {
        "id": "4siG7MJttIXG"
      },
      "execution_count": null,
      "outputs": []
    },
    {
      "cell_type": "code",
      "source": [
        "# print(get_lexical_position('a')) # Works apparently\n",
        "\n",
        "# print(convert_char_to_original('s', 59))\n",
        "\n",
        "# print(decode('str'))\n",
        "\n",
        "print(decode('sidnkw')) #Works\n",
        "print(decode('i uz zwgd jqf.')) #Works\n",
        "print(decode('tmny zk d pmxj.')) #Works\n",
        "print(decode('cvsnq xkw bs w33i twxbfx.')) #Works\n",
        "print(decode(\"\"\"\"\"i wdquq qjxu olgnsp i ngrc hueaxheo hfroy z zsnqnj of elzwgmtd iplycz, tgs eebh i spimnfcy z uboso hcxufq ccz ubgabhea yvso vt qwifpbuvbgdjv qqjpvswh cvfpqnj qw iif ahmuntk voaxbfgspa. bn ngc wtqw limq xlis 35000 szmwh oy jq bcida mmjp, efrr coptx dkw bojj oblheopvu, obn vfmgztxo, p lsy'k ntap, i mnzlpm zfbyi 35000 ipcmx ec hocdal, wtdexbm, gnuxi, qunep, iok pcnoj elrcpurn. gr k khakwaxit wxbfgml qjeefli, j yrc v heoyztxu slmqdnk.\" --pcmifpjqc\"\"\")) #Works\n"
      ],
      "metadata": {
        "id": "ASUDxgIytIHB",
        "colab": {
          "base_uri": "https://localhost:8080/"
        },
        "outputId": "6e0ba15b-2005-4e86-b0e1-32eb75147f56"
      },
      "execution_count": null,
      "outputs": [
        {
          "output_type": "stream",
          "name": "stdout",
          "text": [
            "secret\n",
            "i am here now.\n",
            "this is a test.\n",
            "check out my l33t skillz.\n",
            "\"\"i could have become a mass murderer after i hacked my governor module, but then i realized i could access the combined feed of entertainment channels carried on the company satellites. it had been well over 35000 hours or so since then, with still not much murdering, but probably, i don't know, a little under 35000 hours of movies, serials, books, plays, and music consumed. as a heartless killing machine, i was a terrible failure.\" --murderbot\n"
          ]
        }
      ]
    },
    {
      "cell_type": "code",
      "source": [],
      "metadata": {
        "id": "G7YWiZPbE2AR"
      },
      "execution_count": null,
      "outputs": []
    }
  ]
}